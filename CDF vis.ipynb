{
 "cells": [
  {
   "cell_type": "markdown",
   "metadata": {},
   "source": [
    "Pick out two wells in close proximity."
   ]
  },
  {
   "cell_type": "code",
   "execution_count": 12,
   "metadata": {},
   "outputs": [],
   "source": [
    "exec(open('calc_cdfs.py').read())"
   ]
  },
  {
   "cell_type": "code",
   "execution_count": 13,
   "metadata": {},
   "outputs": [
    {
     "name": "stdout",
     "output_type": "stream",
     "text": [
      "(40, 28)\n"
     ]
    },
    {
     "data": {
      "text/html": [
       "<div>\n",
       "<style scoped>\n",
       "    .dataframe tbody tr th:only-of-type {\n",
       "        vertical-align: middle;\n",
       "    }\n",
       "\n",
       "    .dataframe tbody tr th {\n",
       "        vertical-align: top;\n",
       "    }\n",
       "\n",
       "    .dataframe thead th {\n",
       "        text-align: right;\n",
       "    }\n",
       "</style>\n",
       "<table border=\"1\" class=\"dataframe\">\n",
       "  <thead>\n",
       "    <tr style=\"text-align: right;\">\n",
       "      <th></th>\n",
       "      <th>Dbkey</th>\n",
       "      <th>Station</th>\n",
       "      <th>Site</th>\n",
       "      <th>Group Name</th>\n",
       "      <th>Data Type</th>\n",
       "      <th>Frequency</th>\n",
       "      <th>Statistic Type</th>\n",
       "      <th>Recorder</th>\n",
       "      <th>Agency</th>\n",
       "      <th>Start Date</th>\n",
       "      <th>...</th>\n",
       "      <th>X COORD</th>\n",
       "      <th>Y COORD</th>\n",
       "      <th>Basin</th>\n",
       "      <th>Structure Type</th>\n",
       "      <th>Section</th>\n",
       "      <th>Township</th>\n",
       "      <th>Range</th>\n",
       "      <th>sigmoid_a</th>\n",
       "      <th>sigmoid_b</th>\n",
       "      <th>sigmoid_r2</th>\n",
       "    </tr>\n",
       "  </thead>\n",
       "  <tbody>\n",
       "    <tr>\n",
       "      <th>0</th>\n",
       "      <td>NV387</td>\n",
       "      <td>CH323</td>\n",
       "      <td>CH323</td>\n",
       "      <td>CH323</td>\n",
       "      <td>WELL</td>\n",
       "      <td>DA</td>\n",
       "      <td>MAX</td>\n",
       "      <td>????</td>\n",
       "      <td>USGS</td>\n",
       "      <td>16-May-01</td>\n",
       "      <td>...</td>\n",
       "      <td>405351.770</td>\n",
       "      <td>896624.050</td>\n",
       "      <td>TIDCAL.N</td>\n",
       "      <td>NaN</td>\n",
       "      <td>25</td>\n",
       "      <td>42</td>\n",
       "      <td>25</td>\n",
       "      <td>26.565825</td>\n",
       "      <td>1.168734</td>\n",
       "      <td>0.994688</td>\n",
       "    </tr>\n",
       "    <tr>\n",
       "      <th>1</th>\n",
       "      <td>L7462</td>\n",
       "      <td>CRS01FS</td>\n",
       "      <td>CRS01F</td>\n",
       "      <td>CRS01F</td>\n",
       "      <td>WELL</td>\n",
       "      <td>DA</td>\n",
       "      <td>MEAN</td>\n",
       "      <td>CR10</td>\n",
       "      <td>WMD</td>\n",
       "      <td>2-Nov-99</td>\n",
       "      <td>...</td>\n",
       "      <td>557891.616</td>\n",
       "      <td>892205.684</td>\n",
       "      <td>EAST CAL</td>\n",
       "      <td>NaN</td>\n",
       "      <td>26</td>\n",
       "      <td>42</td>\n",
       "      <td>30</td>\n",
       "      <td>10.231386</td>\n",
       "      <td>1.294867</td>\n",
       "      <td>0.980040</td>\n",
       "    </tr>\n",
       "    <tr>\n",
       "      <th>2</th>\n",
       "      <td>TA202</td>\n",
       "      <td>CRS01NS</td>\n",
       "      <td>CRS01N</td>\n",
       "      <td>CRS01N</td>\n",
       "      <td>WELL</td>\n",
       "      <td>DA</td>\n",
       "      <td>MEAN</td>\n",
       "      <td>MOD1</td>\n",
       "      <td>WMD</td>\n",
       "      <td>2-Nov-99</td>\n",
       "      <td>...</td>\n",
       "      <td>557831.589</td>\n",
       "      <td>892534.391</td>\n",
       "      <td>EAST CAL</td>\n",
       "      <td>NaN</td>\n",
       "      <td>26</td>\n",
       "      <td>42</td>\n",
       "      <td>30</td>\n",
       "      <td>9.866855</td>\n",
       "      <td>4.807597</td>\n",
       "      <td>0.997477</td>\n",
       "    </tr>\n",
       "    <tr>\n",
       "      <th>3</th>\n",
       "      <td>TA204</td>\n",
       "      <td>CRS02FS</td>\n",
       "      <td>CRS02F</td>\n",
       "      <td>CRS02F</td>\n",
       "      <td>WELL</td>\n",
       "      <td>DA</td>\n",
       "      <td>MEAN</td>\n",
       "      <td>MOD1</td>\n",
       "      <td>WMD</td>\n",
       "      <td>3-Nov-99</td>\n",
       "      <td>...</td>\n",
       "      <td>579823.685</td>\n",
       "      <td>892487.065</td>\n",
       "      <td>EAST CAL</td>\n",
       "      <td>NaN</td>\n",
       "      <td>28</td>\n",
       "      <td>42</td>\n",
       "      <td>31</td>\n",
       "      <td>11.123020</td>\n",
       "      <td>0.987549</td>\n",
       "      <td>0.984065</td>\n",
       "    </tr>\n",
       "    <tr>\n",
       "      <th>4</th>\n",
       "      <td>L7448</td>\n",
       "      <td>CRS02NS</td>\n",
       "      <td>CRS02N</td>\n",
       "      <td>CRS02N</td>\n",
       "      <td>WELL</td>\n",
       "      <td>DA</td>\n",
       "      <td>MEAN</td>\n",
       "      <td>CR10</td>\n",
       "      <td>WMD</td>\n",
       "      <td>4-Nov-99</td>\n",
       "      <td>...</td>\n",
       "      <td>579982.837</td>\n",
       "      <td>892796.857</td>\n",
       "      <td>EAST CAL</td>\n",
       "      <td>NaN</td>\n",
       "      <td>28</td>\n",
       "      <td>42</td>\n",
       "      <td>31</td>\n",
       "      <td>10.299006</td>\n",
       "      <td>3.313736</td>\n",
       "      <td>0.996217</td>\n",
       "    </tr>\n",
       "  </tbody>\n",
       "</table>\n",
       "<p>5 rows × 28 columns</p>\n",
       "</div>"
      ],
      "text/plain": [
       "   Dbkey  Station    Site Group Name Data Type Frequency Statistic Type  \\\n",
       "0  NV387    CH323   CH323      CH323      WELL        DA            MAX   \n",
       "1  L7462  CRS01FS  CRS01F     CRS01F      WELL        DA           MEAN   \n",
       "2  TA202  CRS01NS  CRS01N     CRS01N      WELL        DA           MEAN   \n",
       "3  TA204  CRS02FS  CRS02F     CRS02F      WELL        DA           MEAN   \n",
       "4  L7448  CRS02NS  CRS02N     CRS02N      WELL        DA           MEAN   \n",
       "\n",
       "  Recorder Agency Start Date  ...     X COORD     Y COORD     Basin  \\\n",
       "0     ????   USGS  16-May-01  ...  405351.770  896624.050  TIDCAL.N   \n",
       "1     CR10    WMD   2-Nov-99  ...  557891.616  892205.684  EAST CAL   \n",
       "2     MOD1    WMD   2-Nov-99  ...  557831.589  892534.391  EAST CAL   \n",
       "3     MOD1    WMD   3-Nov-99  ...  579823.685  892487.065  EAST CAL   \n",
       "4     CR10    WMD   4-Nov-99  ...  579982.837  892796.857  EAST CAL   \n",
       "\n",
       "  Structure Type  Section  Township  Range  sigmoid_a  sigmoid_b  sigmoid_r2  \n",
       "0            NaN       25        42     25  26.565825   1.168734    0.994688  \n",
       "1            NaN       26        42     30  10.231386   1.294867    0.980040  \n",
       "2            NaN       26        42     30   9.866855   4.807597    0.997477  \n",
       "3            NaN       28        42     31  11.123020   0.987549    0.984065  \n",
       "4            NaN       28        42     31  10.299006   3.313736    0.996217  \n",
       "\n",
       "[5 rows x 28 columns]"
      ]
     },
     "execution_count": 13,
     "metadata": {},
     "output_type": "execute_result"
    }
   ],
   "source": [
    "print(all_data.shape)\n",
    "all_data.head()"
   ]
  },
  {
   "cell_type": "code",
   "execution_count": 14,
   "metadata": {},
   "outputs": [
    {
     "data": {
      "text/html": [
       "<div>\n",
       "<style scoped>\n",
       "    .dataframe tbody tr th:only-of-type {\n",
       "        vertical-align: middle;\n",
       "    }\n",
       "\n",
       "    .dataframe tbody tr th {\n",
       "        vertical-align: top;\n",
       "    }\n",
       "\n",
       "    .dataframe thead th {\n",
       "        text-align: right;\n",
       "    }\n",
       "</style>\n",
       "<table border=\"1\" class=\"dataframe\">\n",
       "  <thead>\n",
       "    <tr style=\"text-align: right;\">\n",
       "      <th></th>\n",
       "      <th>Dbkey</th>\n",
       "      <th>Station</th>\n",
       "      <th>Site</th>\n",
       "      <th>Group Name</th>\n",
       "      <th>Data Type</th>\n",
       "      <th>Frequency</th>\n",
       "      <th>Statistic Type</th>\n",
       "      <th>Recorder</th>\n",
       "      <th>Agency</th>\n",
       "      <th>Start Date</th>\n",
       "      <th>...</th>\n",
       "      <th>X COORD</th>\n",
       "      <th>Y COORD</th>\n",
       "      <th>Basin</th>\n",
       "      <th>Structure Type</th>\n",
       "      <th>Section</th>\n",
       "      <th>Township</th>\n",
       "      <th>Range</th>\n",
       "      <th>sigmoid_a</th>\n",
       "      <th>sigmoid_b</th>\n",
       "      <th>sigmoid_r2</th>\n",
       "    </tr>\n",
       "  </thead>\n",
       "  <tbody>\n",
       "    <tr>\n",
       "      <th>9</th>\n",
       "      <td>L7457</td>\n",
       "      <td>CRS05NS</td>\n",
       "      <td>CRS05N</td>\n",
       "      <td>CRS05N</td>\n",
       "      <td>WELL</td>\n",
       "      <td>DA</td>\n",
       "      <td>MEAN</td>\n",
       "      <td>CR10</td>\n",
       "      <td>WMD</td>\n",
       "      <td>3-Nov-99</td>\n",
       "      <td>...</td>\n",
       "      <td>571719.77</td>\n",
       "      <td>841597.617</td>\n",
       "      <td>EAST CAL</td>\n",
       "      <td>NaN</td>\n",
       "      <td>17</td>\n",
       "      <td>44</td>\n",
       "      <td>31</td>\n",
       "      <td>24.078381</td>\n",
       "      <td>3.059555</td>\n",
       "      <td>0.994318</td>\n",
       "    </tr>\n",
       "  </tbody>\n",
       "</table>\n",
       "<p>1 rows × 28 columns</p>\n",
       "</div>"
      ],
      "text/plain": [
       "   Dbkey  Station    Site Group Name Data Type Frequency Statistic Type  \\\n",
       "9  L7457  CRS05NS  CRS05N     CRS05N      WELL        DA           MEAN   \n",
       "\n",
       "  Recorder Agency Start Date  ...    X COORD     Y COORD     Basin  \\\n",
       "9     CR10    WMD   3-Nov-99  ...  571719.77  841597.617  EAST CAL   \n",
       "\n",
       "  Structure Type  Section  Township  Range  sigmoid_a  sigmoid_b  sigmoid_r2  \n",
       "9            NaN       17        44     31  24.078381   3.059555    0.994318  \n",
       "\n",
       "[1 rows x 28 columns]"
      ]
     },
     "execution_count": 14,
     "metadata": {},
     "output_type": "execute_result"
    }
   ],
   "source": [
    "crs5 = all_data[all_data['Site'] == 'CRS05N']\n",
    "crs5.head()"
   ]
  },
  {
   "cell_type": "markdown",
   "metadata": {},
   "source": [
    "Load the data associated with these wells."
   ]
  },
  {
   "cell_type": "code",
   "execution_count": 4,
   "metadata": {},
   "outputs": [],
   "source": [
    "import pandas as pd\n",
    "well1 = pd.read_csv('data/csvs/L7458.csv')\n",
    "well2 = pd.read_csv('data/csvs/L7457.csv')"
   ]
  },
  {
   "cell_type": "code",
   "execution_count": 5,
   "metadata": {},
   "outputs": [
    {
     "data": {
      "text/html": [
       "<div>\n",
       "<style scoped>\n",
       "    .dataframe tbody tr th:only-of-type {\n",
       "        vertical-align: middle;\n",
       "    }\n",
       "\n",
       "    .dataframe tbody tr th {\n",
       "        vertical-align: top;\n",
       "    }\n",
       "\n",
       "    .dataframe thead th {\n",
       "        text-align: right;\n",
       "    }\n",
       "</style>\n",
       "<table border=\"1\" class=\"dataframe\">\n",
       "  <thead>\n",
       "    <tr style=\"text-align: right;\">\n",
       "      <th></th>\n",
       "      <th>Unnamed: 0</th>\n",
       "      <th>Station</th>\n",
       "      <th>DBKEY</th>\n",
       "      <th>Daily Date</th>\n",
       "      <th>gwater_elev_navd88</th>\n",
       "      <th>Qualifer</th>\n",
       "      <th>Revision Date</th>\n",
       "    </tr>\n",
       "  </thead>\n",
       "  <tbody>\n",
       "    <tr>\n",
       "      <th>0</th>\n",
       "      <td>0</td>\n",
       "      <td>CRS05NM</td>\n",
       "      <td>L7458</td>\n",
       "      <td>03-NOV-1999</td>\n",
       "      <td>23.611</td>\n",
       "      <td>PT</td>\n",
       "      <td>01-MAR-2004</td>\n",
       "    </tr>\n",
       "    <tr>\n",
       "      <th>1</th>\n",
       "      <td>1</td>\n",
       "      <td>CRS05NM</td>\n",
       "      <td>L7458</td>\n",
       "      <td>04-NOV-1999</td>\n",
       "      <td>23.571</td>\n",
       "      <td>NaN</td>\n",
       "      <td>01-MAR-2004</td>\n",
       "    </tr>\n",
       "    <tr>\n",
       "      <th>2</th>\n",
       "      <td>2</td>\n",
       "      <td>CRS05NM</td>\n",
       "      <td>L7458</td>\n",
       "      <td>05-NOV-1999</td>\n",
       "      <td>23.321</td>\n",
       "      <td>NaN</td>\n",
       "      <td>01-MAR-2004</td>\n",
       "    </tr>\n",
       "    <tr>\n",
       "      <th>3</th>\n",
       "      <td>3</td>\n",
       "      <td>CRS05NM</td>\n",
       "      <td>L7458</td>\n",
       "      <td>06-NOV-1999</td>\n",
       "      <td>23.291</td>\n",
       "      <td>NaN</td>\n",
       "      <td>01-MAR-2004</td>\n",
       "    </tr>\n",
       "    <tr>\n",
       "      <th>4</th>\n",
       "      <td>4</td>\n",
       "      <td>CRS05NM</td>\n",
       "      <td>L7458</td>\n",
       "      <td>07-NOV-1999</td>\n",
       "      <td>23.441</td>\n",
       "      <td>NaN</td>\n",
       "      <td>01-MAR-2004</td>\n",
       "    </tr>\n",
       "  </tbody>\n",
       "</table>\n",
       "</div>"
      ],
      "text/plain": [
       "   Unnamed: 0  Station  DBKEY   Daily Date  gwater_elev_navd88 Qualifer  \\\n",
       "0           0  CRS05NM  L7458  03-NOV-1999              23.611       PT   \n",
       "1           1  CRS05NM  L7458  04-NOV-1999              23.571      NaN   \n",
       "2           2  CRS05NM  L7458  05-NOV-1999              23.321      NaN   \n",
       "3           3  CRS05NM  L7458  06-NOV-1999              23.291      NaN   \n",
       "4           4  CRS05NM  L7458  07-NOV-1999              23.441      NaN   \n",
       "\n",
       "  Revision Date  \n",
       "0   01-MAR-2004  \n",
       "1   01-MAR-2004  \n",
       "2   01-MAR-2004  \n",
       "3   01-MAR-2004  \n",
       "4   01-MAR-2004  "
      ]
     },
     "execution_count": 5,
     "metadata": {},
     "output_type": "execute_result"
    }
   ],
   "source": [
    "well1.head()"
   ]
  },
  {
   "cell_type": "code",
   "execution_count": 6,
   "metadata": {},
   "outputs": [],
   "source": [
    "gwater1 = well1['gwater_elev_navd88'].dropna().to_numpy()\n",
    "gwater2 = well2['gwater_elev_navd88'].dropna().to_numpy()"
   ]
  },
  {
   "cell_type": "code",
   "execution_count": 7,
   "metadata": {},
   "outputs": [],
   "source": [
    "import numpy as np\n",
    "def compute_cdf(arr):\n",
    "    arr_sort = np.sort(arr)\n",
    "    N = len(arr_sort)\n",
    "    return arr_sort, np.array(range(N)) / N\n",
    "\n",
    "x1, y1 = compute_cdf(gwater1)\n",
    "x2, y2 = compute_cdf(gwater2)"
   ]
  },
  {
   "cell_type": "code",
   "execution_count": 8,
   "metadata": {
    "scrolled": true
   },
   "outputs": [
    {
     "data": {
      "text/plain": [
       "[<matplotlib.lines.Line2D at 0x245e6f88508>]"
      ]
     },
     "execution_count": 8,
     "metadata": {},
     "output_type": "execute_result"
    },
    {
     "data": {
      "image/png": "[encoded data removed]",
      "text/plain": [
       "<Figure size 432x288 with 1 Axes>"
      ]
     },
     "metadata": {
      "needs_background": "light"
     },
     "output_type": "display_data"
    }
   ],
   "source": [
    "import matplotlib.pyplot as plt\n",
    "plt.plot(x1, y1, 'red')\n",
    "plt.plot(x2, y2, 'blue')"
   ]
  },
  {
   "cell_type": "code",
   "execution_count": 15,
   "metadata": {
    "scrolled": false
   },
   "outputs": [
    {
     "data": {
      "image/png": "[encoded data removed]",
      "text/plain": [
       "<Figure size 432x288 with 1 Axes>"
      ]
     },
     "metadata": {
      "needs_background": "light"
     },
     "output_type": "display_data"
    }
   ],
   "source": [
    "def show_cdfs_at_site(site):\n",
    "    plt.figure()\n",
    "    keys = all_data[all_data['Site'] == site]['Dbkey'].to_numpy()\n",
    "    for key in keys:\n",
    "        this_df = pd.read_csv('data/csvs/{}.csv'.format(key))\n",
    "        plt.plot(*compute_cdf(this_df['gwater_elev_navd88'].dropna().to_numpy()), label=key)\n",
    "    \n",
    "    plt.legend()\n",
    "    plt.title('CDFS for wells at ' + site)\n",
    "    plt.show()\n",
    "\n",
    "show_cdfs_at_site('CRS05N')"
   ]
  },
  {
   "cell_type": "code",
   "execution_count": 21,
   "metadata": {
    "scrolled": false
   },
   "outputs": [
    {
     "data": {
      "text/plain": [
       "[<matplotlib.lines.Line2D at 0x245ea10b888>]"
      ]
     },
     "execution_count": 21,
     "metadata": {},
     "output_type": "execute_result"
    },
    {
     "data": {
      "image/png": "[encoded data removed]",
      "text/plain": [
       "<Figure size 432x288 with 1 Axes>"
      ]
     },
     "metadata": {
      "needs_background": "light"
     },
     "output_type": "display_data"
    }
   ],
   "source": [
    "hist, edges = np.histogram(all_data['sigmoid_r2'].to_numpy())\n",
    "edges = edges[:-1]\n",
    "\n",
    "plt.plot(edges, hist)"
   ]
  },
  {
   "cell_type": "code",
   "execution_count": 18,
   "metadata": {},
   "outputs": [
    {
     "data": {
      "text/plain": [
       "array([0.95827048, 0.96242597, 0.96658146, 0.97073694, 0.97489243,\n",
       "       0.97904792, 0.9832034 , 0.98735889, 0.99151438, 0.99566986])"
      ]
     },
     "execution_count": 18,
     "metadata": {},
     "output_type": "execute_result"
    }
   ],
   "source": [
    "edges"
   ]
  }
 ],
 "metadata": {
  "kernelspec": {
   "display_name": "Python 3",
   "language": "python",
   "name": "python3"
  },
  "language_info": {
   "codemirror_mode": {
    "name": "ipython",
    "version": 3
   },
   "file_extension": ".py",
   "mimetype": "text/x-python",
   "name": "python",
   "nbconvert_exporter": "python",
   "pygments_lexer": "ipython3",
   "version": "3.7.6"
  }
 },
 "nbformat": 4,
 "nbformat_minor": 4
}
